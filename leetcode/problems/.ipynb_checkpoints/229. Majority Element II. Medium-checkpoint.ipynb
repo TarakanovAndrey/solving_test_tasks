{
 "cells": [
  {
   "cell_type": "markdown",
   "id": "5a4b07f7-b763-455c-978a-9f462c450201",
   "metadata": {},
   "source": [
    "# 229. Majority Element II"
   ]
  },
  {
   "cell_type": "markdown",
   "id": "c5938a33-5c28-4842-be11-d5a11cbcbba8",
   "metadata": {},
   "source": [
    "**Description**\n",
    "\n",
    "Given an integer array of size n, find all elements that appear more than ⌊ n/3 ⌋ times.\n",
    "\n",
    "**Example 1:**\n",
    "\n",
    "Input: nums = [3,2,3]\n",
    "Output: [3]\n",
    "\n",
    "**Example 2:**\n",
    "\n",
    "Input: nums = [1]\n",
    "Output: [1]\n",
    "\n",
    "**Example 3:**\n",
    "\n",
    "Input: nums = [1,2]\n",
    "Output: [1,2]\n",
    "\n",
    " \n",
    "\n",
    "**Constraints:**\n",
    "\n",
    "    1 <= nums.length <= 5 * 104\n",
    "    -109 <= nums[i] <= 109\n",
    "\n",
    " \n",
    "\n",
    "**Follow up:**  \n",
    "\n",
    "Could you solve the problem in linear time and in O(1) space?\n"
   ]
  },
  {
   "cell_type": "markdown",
   "id": "feeb5879-676c-4cfb-8f43-d36ba62786da",
   "metadata": {},
   "source": [
    "## My solution 1."
   ]
  },
  {
   "cell_type": "code",
   "execution_count": 4,
   "id": "5b7791de-12b0-4482-b5d0-06c0e05008f1",
   "metadata": {},
   "outputs": [],
   "source": [
    "from collections import Counter\n",
    "\n",
    "def majority_element(nums: list) -> list:\n",
    "    target = len(nums) // 3\n",
    "    nums_count = Counter(nums)\n",
    "    result = [value for value, count in nums_count.items() if count > target]\n",
    "    return result"
   ]
  },
  {
   "cell_type": "code",
   "execution_count": 5,
   "id": "1a8067ee-f701-4d03-8067-799a965eb810",
   "metadata": {},
   "outputs": [],
   "source": [
    "assert majority_element([3, 2, 3]) == [3]"
   ]
  },
  {
   "cell_type": "code",
   "execution_count": 6,
   "id": "29a98542-795e-4670-86fc-1af1befed4b0",
   "metadata": {},
   "outputs": [],
   "source": [
    "assert majority_element([1, 2]) == [1, 2]"
   ]
  },
  {
   "cell_type": "code",
   "execution_count": 7,
   "id": "aa9a4a10-9bd1-457e-9633-11dc2df74f81",
   "metadata": {},
   "outputs": [],
   "source": [
    "assert majority_element([1]) == [1]"
   ]
  }
 ],
 "metadata": {
  "kernelspec": {
   "display_name": "Python 3 (ipykernel)",
   "language": "python",
   "name": "python3"
  },
  "language_info": {
   "codemirror_mode": {
    "name": "ipython",
    "version": 3
   },
   "file_extension": ".py",
   "mimetype": "text/x-python",
   "name": "python",
   "nbconvert_exporter": "python",
   "pygments_lexer": "ipython3",
   "version": "3.10.12"
  }
 },
 "nbformat": 4,
 "nbformat_minor": 5
}

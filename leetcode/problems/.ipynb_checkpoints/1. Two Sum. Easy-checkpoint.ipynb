{
 "cells": [
  {
   "cell_type": "markdown",
   "id": "2ceab945-b941-4ac7-9d1d-4ab35846293f",
   "metadata": {},
   "source": [
    "# TWO SUM. DIFFICULTY - EASY. DESCRIPTION."
   ]
  },
  {
   "cell_type": "markdown",
   "id": "521f4c7d-6b6c-433e-9709-c073cca509de",
   "metadata": {},
   "source": [
    "\n",
    "Given an array of integers nums and an integer target, return indices of the two numbers such that they add up to target.\n",
    "\n",
    "You may assume that each input would have exactly one solution, and you may not use the same element twice.\n",
    "\n",
    "You can return the answer in any order.\n",
    " \n",
    "\n",
    "Example 1:\n",
    "\n",
    "Input: nums = [2,7,11,15], target = 9\n",
    "Output: [0,1]\n",
    "Explanation: Because nums[0] + nums[1] == 9, we return [0, 1].\n",
    "\n",
    "Example 2:\n",
    "\n",
    "Input: nums = [3,2,4], target = 6\n",
    "Output: [1,2]\n",
    "\n",
    "Example 3:\n",
    "\n",
    "Input: nums = [3,3], target = 6\n",
    "Output: [0,1]\n",
    "\n",
    " \n",
    "\n",
    "Constraints:\n",
    "\n",
    "    2 <= nums.length <= 104\n",
    "    -109 <= nums[i] <= 109\n",
    "    -109 <= target <= 109\n",
    "    Only one valid answer exists.\n",
    "\n",
    " \n",
    "Follow-up: Can you come up with an algorithm that is less than O(n2) time complexity?"
   ]
  },
  {
   "cell_type": "markdown",
   "id": "17472fa7-54c3-4cfe-94d2-66b36f82c75a",
   "metadata": {},
   "source": [
    "## My solution 1"
   ]
  },
  {
   "cell_type": "code",
   "execution_count": 10,
   "id": "71575210-61d7-4711-a5e7-9cb72c4b9067",
   "metadata": {},
   "outputs": [],
   "source": [
    "def two_sum(nums: list, target: int) -> list:\n",
    "        for index1, num1 in enumerate(nums):\n",
    "            for index2, num2 in enumerate(nums[1:]):\n",
    "                if num1 + num2 == target and index1 != index2+1:\n",
    "                    return index1, index2+1\n",
    "\n",
    "\n",
    "assert two_sum(nums = [2,7,11,15], target = 9) == (0, 1)\n",
    "assert two_sum(nums = [3,2,4], target = 6) == (1, 2)\n",
    "assert two_sum(nums = [3,3], target = 6) == (0, 1)\n"
   ]
  },
  {
   "cell_type": "markdown",
   "id": "30622fde-f735-48e9-90eb-7af978762e8d",
   "metadata": {},
   "source": [
    "## My solution 2"
   ]
  },
  {
   "cell_type": "code",
   "execution_count": 11,
   "id": "984201d1-2452-4ec5-9176-152c1f021116",
   "metadata": {},
   "outputs": [],
   "source": [
    "def two_sum(nums: list, target: int) -> list:\n",
    "    for index1, num1 in enumerate(nums):\n",
    "                i = index1 + 1\n",
    "                for index2, num2 in enumerate(nums[i:]):\n",
    "                    if num1 + num2 == target:\n",
    "                        return index1, i\n",
    "                    i = i + 1\n",
    "\n",
    "\n",
    "assert two_sum(nums = [2,7,11,15], target = 9) == (0, 1)\n",
    "assert two_sum(nums = [3,2,4], target = 6) == (1, 2)\n",
    "assert two_sum(nums = [3,3], target = 6) == (0, 1)"
   ]
  },
  {
   "cell_type": "markdown",
   "id": "5fb7e6de-a1dc-429d-a88c-cb0ac4501cf2",
   "metadata": {},
   "source": [
    "## My solution 3"
   ]
  },
  {
   "cell_type": "code",
   "execution_count": 3,
   "id": "ff6cb9a6-b39e-493b-a4cd-4bb2e350a639",
   "metadata": {},
   "outputs": [],
   "source": [
    "from itertools import product\n",
    "\n",
    "\n",
    "def get_index_value(items):\n",
    "    result = list()\n",
    "    for index, value in enumerate(items):\n",
    "        result.append((index, value))\n",
    "\n",
    "    return result\n",
    "\n",
    "\n",
    "def two_sum(nums, target):\n",
    "    datas = get_index_value(nums)\n",
    "    for num1, num2 in product(datas, datas):\n",
    "        if num1[1] + num2[1] == target and num1[0] != num2[0]:\n",
    "            return num1[0], num2[0]\n",
    "\n",
    "\n",
    "assert two_sum(nums = [2,7,11,15], target = 9) == (0, 1)\n",
    "assert two_sum(nums = [3,2,4], target = 6) == (1, 2)\n",
    "assert two_sum(nums = [3,3], target = 6) == (0, 1)"
   ]
  },
  {
   "cell_type": "markdown",
   "id": "8d432f1a-842b-4fb0-b6c0-6738373b8faf",
   "metadata": {},
   "source": [
    "## My solution 4"
   ]
  },
  {
   "cell_type": "code",
   "execution_count": 2,
   "id": "6f63d7c3-2a91-4feb-ae63-af1d7c8c90ed",
   "metadata": {},
   "outputs": [],
   "source": [
    "def two_sum(nums: list, target: int) -> list:\n",
    "    for index, num in enumerate(nums):\n",
    "        need_num = target - num\n",
    "        if need_num in nums[index+1:]:\n",
    "            need_num_index = index + nums[index+1:].index(need_num) + 1\n",
    "            return index, need_num_index\n",
    "\n",
    "\n",
    "assert two_sum(nums = [2,7,11,15], target = 9) == (0, 1)\n",
    "assert two_sum(nums = [3,2,4], target = 6) == (1, 2)\n",
    "assert two_sum(nums = [3,3], target = 6) == (0, 1)"
   ]
  },
  {
   "cell_type": "markdown",
   "id": "5ec9e408-1df0-4f78-bce1-db2ce50de32e",
   "metadata": {},
   "source": [
    "## Leetcode solution 1. Brute Force"
   ]
  },
  {
   "cell_type": "markdown",
   "id": "60a70efa-7e9f-41d0-a316-bec5a93439e4",
   "metadata": {},
   "source": [
    "Algorithm\n",
    "\n",
    "The brute force approach is simple. Loop through each element 'x' and find if there is another value that equals to 'target−x'."
   ]
  },
  {
   "cell_type": "code",
   "execution_count": null,
   "id": "5b39327b-ba45-4ced-a1da-3401212e0107",
   "metadata": {},
   "outputs": [],
   "source": [
    "class Solution:\n",
    "    def twoSum(self, nums: List[int], target: int) -> List[int]:\n",
    "        for i in range(len(nums)):\n",
    "            for j in range(i + 1, len(nums)):\n",
    "                if nums[j] == target - nums[i]:\n",
    "                    return [i, j]"
   ]
  },
  {
   "cell_type": "markdown",
   "id": "8fbbb125-b943-492e-90b9-6f48604921e8",
   "metadata": {},
   "source": [
    "Complexity Analysis\n",
    "\n",
    "    Time complexity: O(n^2).\n",
    "    For each element, we try to find its complement by looping through the rest of the array which takes O(n)O(n)O(n) time. Therefore, the time complexity is O(n2)O(n^2)O(n2).\n",
    "\n",
    "    Space complexity: O(1).\n",
    "    The space required does not depend on the size of the input array, so only constant space is used.\n"
   ]
  },
  {
   "cell_type": "markdown",
   "id": "d06abcec-4826-4fb3-b56a-da0e2c568bfd",
   "metadata": {},
   "source": [
    "## Leetcode solution 2. Two-pass Hash Table"
   ]
  },
  {
   "cell_type": "markdown",
   "id": "a727680f-b5d4-454f-a162-b9296c46e1ac",
   "metadata": {},
   "source": [
    "Intuition\n",
    "\n",
    "To improve our runtime complexity, we need a more efficient way to check if the complement exists in the array. If the complement exists, we need to get its index. What is the best way to maintain a mapping of each element in the array to its index? A hash table.\n",
    "\n",
    "We can reduce the lookup time from O(n) to O(1) by trading space for speed. A hash table is well suited for this purpose because it supports fast lookup in near constant time. I say \"near\" because if a collision occurred, a lookup could degenerate to O(n) time. However, lookup in a hash table should be amortized O(1) time as long as the hash function was chosen carefully.\n",
    "\n",
    "Algorithm\n",
    "\n",
    "A simple implementation uses two iterations. In the first iteration, we add each element's value as a key and its index as a value to the hash table. Then, in the second iteration, we check if each element's complement (target−nums[i]) exists in the hash table. If it does exist, we return current element's index and its complement's index. Beware that the complement must not be nums[i] itself!"
   ]
  },
  {
   "cell_type": "code",
   "execution_count": null,
   "id": "bdaeaa9e-fc03-4625-810d-2f40c748b437",
   "metadata": {},
   "outputs": [],
   "source": [
    "class Solution:\n",
    "    def twoSum(self, nums: List[int], target: int) -> List[int]:\n",
    "        hashmap = {}\n",
    "        for i in range(len(nums)):\n",
    "            hashmap[nums[i]] = i\n",
    "        for i in range(len(nums)):\n",
    "            complement = target - nums[i]\n",
    "            if complement in hashmap and hashmap[complement] != i:\n",
    "                return [i, hashmap[complement]] "
   ]
  },
  {
   "cell_type": "markdown",
   "id": "e9d0c22f-3eac-4a1f-899d-6b3f97f7ac05",
   "metadata": {},
   "source": [
    "Complexity Analysis\n",
    "\n",
    "    Time complexity: O(n).\n",
    "    We traverse the list containing nnn elements exactly twice. Since the hash table reduces the lookup time to O(1)O(1)O(1), the overall time complexity is O(n).\n",
    "\n",
    "    Space complexity: O(n).\n",
    "    The extra space required depends on the number of items stored in the hash table, which stores exactly nnn elements.\n"
   ]
  },
  {
   "cell_type": "markdown",
   "id": "3f43df24-5fea-4485-bd19-c26fe52271b0",
   "metadata": {},
   "source": [
    "## Leetcode solution 3. One-pass Hash Table"
   ]
  },
  {
   "cell_type": "markdown",
   "id": "642f82f2-a99c-4f6a-b7c8-72b3c8051b90",
   "metadata": {},
   "source": [
    "Algorithm\n",
    "\n",
    "It turns out we can do it in one-pass. While we are iterating and inserting elements into the hash table, we also look back to check if current element's complement already exists in the hash table. If it exists, we have found a solution and return the indices immediately."
   ]
  },
  {
   "cell_type": "code",
   "execution_count": null,
   "id": "39b8e796-189d-46f0-8556-47a1d1b7c853",
   "metadata": {},
   "outputs": [],
   "source": [
    "class Solution:\n",
    "    def twoSum(self, nums: List[int], target: int) -> List[int]:\n",
    "        hashmap = {}\n",
    "        for i in range(len(nums)):\n",
    "            complement = target - nums[i]\n",
    "            if complement in hashmap:\n",
    "                return [i, hashmap[complement]]\n",
    "            hashmap[nums[i]] = i"
   ]
  },
  {
   "cell_type": "markdown",
   "id": "15f57883-f34b-4339-88cd-b948d5ef967c",
   "metadata": {},
   "source": [
    "Complexity Analysis\n",
    "\n",
    "    Time complexity: O(n)O(n)O(n).\n",
    "    We traverse the list containing nnn elements only once. Each lookup in the table costs only O(1)O(1)O(1) time.\n",
    "\n",
    "    Space complexity: O(n)O(n)O(n).\n",
    "    The extra space required depends on the number of items stored in the hash table, which stores at most nnn elements.\n"
   ]
  }
 ],
 "metadata": {
  "kernelspec": {
   "display_name": "Python 3 (ipykernel)",
   "language": "python",
   "name": "python3"
  },
  "language_info": {
   "codemirror_mode": {
    "name": "ipython",
    "version": 3
   },
   "file_extension": ".py",
   "mimetype": "text/x-python",
   "name": "python",
   "nbconvert_exporter": "python",
   "pygments_lexer": "ipython3",
   "version": "3.10.12"
  }
 },
 "nbformat": 4,
 "nbformat_minor": 5
}

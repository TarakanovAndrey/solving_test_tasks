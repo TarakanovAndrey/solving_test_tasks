{
 "cells": [
  {
   "cell_type": "markdown",
   "id": "2ceab945-b941-4ac7-9d1d-4ab35846293f",
   "metadata": {},
   "source": [
    "# TWO SUM. DIFFICULTY - EASY"
   ]
  },
  {
   "cell_type": "markdown",
   "id": "521f4c7d-6b6c-433e-9709-c073cca509de",
   "metadata": {},
   "source": [
    "Task description:\n",
    "\n",
    "Given an array of integers nums and an integer target, return indices of the two numbers such that they add up to target.\n",
    "\n",
    "You may assume that each input would have exactly one solution, and you may not use the same element twice.\n",
    "\n",
    "You can return the answer in any order.\n",
    "\n",
    " \n",
    "\n",
    "Example 1:\n",
    "\n",
    "Input: nums = [2,7,11,15], target = 9\n",
    "Output: [0,1]\n",
    "Explanation: Because nums[0] + nums[1] == 9, we return [0, 1].\n",
    "\n",
    "Example 2:\n",
    "\n",
    "Input: nums = [3,2,4], target = 6\n",
    "Output: [1,2]\n",
    "\n",
    "Example 3:\n",
    "\n",
    "Input: nums = [3,3], target = 6\n",
    "Output: [0,1]\n",
    "\n",
    " \n",
    "\n",
    "Constraints:\n",
    "\n",
    "    2 <= nums.length <= 104\n",
    "    -109 <= nums[i] <= 109\n",
    "    -109 <= target <= 109\n",
    "    Only one valid answer exists.\n",
    "\n",
    " \n",
    "Follow-up: Can you come up with an algorithm that is less than O(n2) time complexity?"
   ]
  },
  {
   "cell_type": "markdown",
   "id": "17472fa7-54c3-4cfe-94d2-66b36f82c75a",
   "metadata": {},
   "source": [
    "## My solution 1"
   ]
  },
  {
   "cell_type": "code",
   "execution_count": 10,
   "id": "71575210-61d7-4711-a5e7-9cb72c4b9067",
   "metadata": {},
   "outputs": [],
   "source": [
    "def two_sum(nums: list, target: int) -> list:\n",
    "        for index1, num1 in enumerate(nums):\n",
    "            for index2, num2 in enumerate(nums[1:]):\n",
    "                if num1 + num2 == target and index1 != index2+1:\n",
    "                    return index1, index2+1\n",
    "\n",
    "\n",
    "assert two_sum(nums = [2,7,11,15], target = 9) == (0, 1)\n",
    "assert two_sum(nums = [3,2,4], target = 6) == (1, 2)\n",
    "assert two_sum(nums = [3,3], target = 6) == (0, 1)\n"
   ]
  },
  {
   "cell_type": "markdown",
   "id": "30622fde-f735-48e9-90eb-7af978762e8d",
   "metadata": {},
   "source": [
    "## My solution 2"
   ]
  },
  {
   "cell_type": "code",
   "execution_count": 11,
   "id": "984201d1-2452-4ec5-9176-152c1f021116",
   "metadata": {},
   "outputs": [],
   "source": [
    "def two_sum(nums: list, target: int) -> list:\n",
    "    for index1, num1 in enumerate(nums):\n",
    "                i = index1 + 1\n",
    "                for index2, num2 in enumerate(nums[i:]):\n",
    "                    if num1 + num2 == target:\n",
    "                        return index1, i\n",
    "                    i = i + 1\n",
    "\n",
    "\n",
    "assert two_sum(nums = [2,7,11,15], target = 9) == (0, 1)\n",
    "assert two_sum(nums = [3,2,4], target = 6) == (1, 2)\n",
    "assert two_sum(nums = [3,3], target = 6) == (0, 1)"
   ]
  }
 ],
 "metadata": {
  "kernelspec": {
   "display_name": "Python 3 (ipykernel)",
   "language": "python",
   "name": "python3"
  },
  "language_info": {
   "codemirror_mode": {
    "name": "ipython",
    "version": 3
   },
   "file_extension": ".py",
   "mimetype": "text/x-python",
   "name": "python",
   "nbconvert_exporter": "python",
   "pygments_lexer": "ipython3",
   "version": "3.10.12"
  }
 },
 "nbformat": 4,
 "nbformat_minor": 5
}

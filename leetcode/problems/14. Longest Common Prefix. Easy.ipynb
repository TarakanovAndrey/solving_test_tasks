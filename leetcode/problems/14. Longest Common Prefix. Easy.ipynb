{
 "cells": [
  {
   "cell_type": "markdown",
   "id": "5e4f1d94-9936-43a1-bf7e-fc58ba72bc9a",
   "metadata": {},
   "source": [
    "# Longest Common Prefix"
   ]
  },
  {
   "cell_type": "markdown",
   "id": "49f43d96-e981-4862-9643-c93de348f590",
   "metadata": {},
   "source": [
    "**Description**  \n",
    "Write a function to find the longest common prefix string amongst an array of strings.\n",
    "\n",
    "If there is no common prefix, return an empty string \"\".\n",
    "\n",
    " \n",
    "\n",
    "**Example 1:**\n",
    "\n",
    "Input: strs = [\"flower\",\"flow\",\"flight\"]\n",
    "Output: \"fl\"\n",
    "\n",
    "**Example 2:**\n",
    "\n",
    "Input: strs = [\"dog\",\"racecar\",\"car\"]\n",
    "Output: \"\"\n",
    "Explanation: There is no common prefix among the input strings.\n",
    "\n",
    " \n",
    "\n",
    "**Constraints:**\n",
    "\n",
    "    1 <= strs.length <= 200\n",
    "    0 <= strs[i].length <= 200\n",
    "    strs[i] consists of only lowercase English letters.\n",
    "\n"
   ]
  },
  {
   "cell_type": "markdown",
   "id": "69f2c9b9-4b87-4ff5-8aac-a6a0b05ab3bd",
   "metadata": {},
   "source": [
    "## My solution 1."
   ]
  },
  {
   "cell_type": "code",
   "execution_count": 5,
   "id": "1a757a4d-72e5-476d-a19c-c4b4eaf6b6e8",
   "metadata": {},
   "outputs": [],
   "source": [
    "def longest_common_prefix(strs: list) -> str:\n",
    "    if not strs:\n",
    "        return ''\n",
    "        \n",
    "    storage = ''\n",
    "\n",
    "    for chars in zip(*strs):\n",
    "        result = set(chars)\n",
    "        if len(result) == 1:\n",
    "            storage += result.pop()\n",
    "        else:\n",
    "            return storage\n",
    "    return storage"
   ]
  },
  {
   "cell_type": "code",
   "execution_count": 6,
   "id": "d5d3d6a1-5788-4b4c-a4cb-632281d48e3b",
   "metadata": {},
   "outputs": [],
   "source": [
    "assert longest_common_prefix([\"flower\",\"flow\",\"flight\"]) == 'fl'"
   ]
  },
  {
   "cell_type": "code",
   "execution_count": 7,
   "id": "b9cb0ff4-902f-4062-a2bb-705d16df2dab",
   "metadata": {},
   "outputs": [],
   "source": [
    "assert longest_common_prefix([\"dog\",\"racecar\",\"car\"]) == ''"
   ]
  }
 ],
 "metadata": {
  "kernelspec": {
   "display_name": "Python 3 (ipykernel)",
   "language": "python",
   "name": "python3"
  },
  "language_info": {
   "codemirror_mode": {
    "name": "ipython",
    "version": 3
   },
   "file_extension": ".py",
   "mimetype": "text/x-python",
   "name": "python",
   "nbconvert_exporter": "python",
   "pygments_lexer": "ipython3",
   "version": "3.10.12"
  }
 },
 "nbformat": 4,
 "nbformat_minor": 5
}

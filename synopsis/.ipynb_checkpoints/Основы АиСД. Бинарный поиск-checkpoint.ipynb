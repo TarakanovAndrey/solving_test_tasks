{
 "cells": [
  {
   "cell_type": "markdown",
   "id": "5edb22d9-ebcf-4d5d-86ff-965ba31feb74",
   "metadata": {},
   "source": [
    "# Основы алгоритмов и структур данных"
   ]
  },
  {
   "cell_type": "markdown",
   "id": "b11d541d-2b5d-4ec9-81f3-ee6b9753da91",
   "metadata": {},
   "source": [
    "## Бинарный поиск"
   ]
  },
  {
   "cell_type": "markdown",
   "id": "6e87fbc1-ee45-467b-a6f3-4f81614b8a4a",
   "metadata": {},
   "source": [
    "### Метод перебора"
   ]
  },
  {
   "cell_type": "markdown",
   "id": "70ad6e8b-19a5-425c-bc16-495c4b59e2ab",
   "metadata": {},
   "source": [
    "Алгоритм перебора проверяет все значения в списке с начала и до нужного атрибутаб, поэтому его также называют **последовательным** или **линейным поиском**.  \n",
    "У метода перебора есть два варианта:  \n",
    "* простой перебор, чтобы проверить, есть ли элемент в списке;\n",
    "* поиск по ключу, если нужно найти элемент по одному атрибуту."
   ]
  },
  {
   "cell_type": "code",
   "execution_count": 16,
   "id": "5eabfa62-92ba-475f-8901-25c2938cf0c9",
   "metadata": {},
   "outputs": [],
   "source": [
    "'''Простой метод перебора'''\n",
    "\n",
    "stop_words = ['ее', 'на', 'по', 'со', 'же', 'браво', 'всего', 'я', 'итого']\n",
    "\n",
    "def is_stop_word(stop_words, candidate):\n",
    "    for i in range(len(stop_words)):\n",
    "        if stop_words[i] == candidate:\n",
    "            return True\n",
    "    return False"
   ]
  },
  {
   "cell_type": "code",
   "execution_count": 17,
   "id": "9fcc277c-462d-4c5d-8089-f0661c4e420e",
   "metadata": {},
   "outputs": [
    {
     "data": {
      "text/plain": [
       "True"
      ]
     },
     "execution_count": 17,
     "metadata": {},
     "output_type": "execute_result"
    }
   ],
   "source": [
    "is_stop_word(stop_words, \"на\") #  True"
   ]
  },
  {
   "cell_type": "code",
   "execution_count": 18,
   "id": "b57325c9-0849-4e5c-9c83-7927b959b9e0",
   "metadata": {},
   "outputs": [
    {
     "data": {
      "text/plain": [
       "False"
      ]
     },
     "execution_count": 18,
     "metadata": {},
     "output_type": "execute_result"
    }
   ],
   "source": [
    "is_stop_word(stop_words, \"нога\") #  False"
   ]
  },
  {
   "cell_type": "markdown",
   "id": "591ab5b7-8cb0-46b3-a1f1-f75b0404af30",
   "metadata": {},
   "source": [
    "### Алгоритм бинарного поиска"
   ]
  },
  {
   "cell_type": "code",
   "execution_count": 26,
   "id": "8d70ce51-afbe-43a6-a190-716a52bd0d18",
   "metadata": {},
   "outputs": [],
   "source": [
    "stop_words = ['а', 'без', 'ближе', 'браво', 'бы', 'вам', 'вас', 'весь', 'во', 'все', 'всего', 'вы', 'того']"
   ]
  },
  {
   "cell_type": "code",
   "execution_count": 27,
   "id": "71b52dae-d767-45da-91d2-b2efce800826",
   "metadata": {},
   "outputs": [],
   "source": [
    "def is_stop_word(stop_words, candidate):\n",
    "    # индекс первого элемента области поиска\n",
    "    first = 0\n",
    "    # индекс последнего элемента области поиска\n",
    "    last = len(stop_words) - 1\n",
    "\n",
    "    while (first <= last):\n",
    "        # индекс среднего элемента области поиска\n",
    "        middle = (first + last) // 2\n",
    "\n",
    "        if candidate == stop_words[middle]:\n",
    "            # если нашли слово-кандидат, поиск завершается удачно\n",
    "            return True\n",
    "\n",
    "        elif candidate < stop_words[middle]:\n",
    "            # если кандидат меньше, отбрасываем правую половину\n",
    "            last = middle - 1\n",
    "        else:\n",
    "            # если кандидат больше, отбрасываем левую половину\n",
    "            first = middle + 1\n",
    "\n",
    "    return False"
   ]
  },
  {
   "cell_type": "code",
   "execution_count": 28,
   "id": "d853f04e-f62d-4bcf-8738-781b07cf10e4",
   "metadata": {},
   "outputs": [
    {
     "data": {
      "text/plain": [
       "True"
      ]
     },
     "execution_count": 28,
     "metadata": {},
     "output_type": "execute_result"
    }
   ],
   "source": [
    "is_stop_word(stop_words, \"бы\") #  True"
   ]
  },
  {
   "cell_type": "code",
   "execution_count": 29,
   "id": "2ab45d71-7ccb-48a0-a1e4-c21dc7854cff",
   "metadata": {},
   "outputs": [
    {
     "data": {
      "text/plain": [
       "False"
      ]
     },
     "execution_count": 29,
     "metadata": {},
     "output_type": "execute_result"
    }
   ],
   "source": [
    "is_stop_word(stop_words, \"нога\") #  False"
   ]
  },
  {
   "cell_type": "markdown",
   "id": "43fe923a-8014-4d2e-9c7a-f9c9e0e0bc1c",
   "metadata": {},
   "source": [
    "### Недостатки бинарного поиска  \n",
    "* Сложнее в реализации\n",
    "* Массив всегда должен быть упорядоченным\n",
    "* Некоторы данные просто нельзя упорядочить(цвета, пары чисел - например широта и долгота). Для проверки на равенство хорошо подходит метод перебора в таких случаях.\n",
    "### Преимущества бинарного поиска\n",
    "* Скорость"
   ]
  },
  {
   "cell_type": "raw",
   "id": "6b21e8a6-9331-4fad-a175-1abdc2632d34",
   "metadata": {},
   "source": [
    "|  Размер  \t| Перебор, среднее \t| Бинарный поиск, среднее |\n",
    "|:--------:\t|:------------------|:------------------------|\n",
    "|    10    \t|          5        |              2          |\n",
    "|   1000   \t|         500       |              5          |\n",
    "| 1000 000 \t|       500 000     |             10          |"
   ]
  },
  {
   "cell_type": "markdown",
   "id": "2631a766-8acf-4e42-8c56-5de71a5d570a",
   "metadata": {},
   "source": [
    "### Задача 1."
   ]
  },
  {
   "cell_type": "markdown",
   "id": "ab109bb8-bdc3-4cdc-9fa7-eb687f0810e5",
   "metadata": {},
   "source": [
    "**Описание**  \n",
    "Реализуйте функцию, которая ищет телефонный номер по имени. Телефонная книга отсортирована по именам. Решите это упражнение, используя бинарный поиск.  \n",
    "Функция принимает два параметра phoneBook и name. Первый - это телефонная книга, а второй — имя, которое нужно найти.  \n",
    "Если имени нет в телефонной книге, то функция должна вернуть строку Name not found!, а если телефонная книга пуста, то Phonebook is empty!."
   ]
  },
  {
   "cell_type": "code",
   "execution_count": 21,
   "id": "1806de9e-c742-4250-b120-863d5711d7e0",
   "metadata": {},
   "outputs": [],
   "source": [
    "phonebook = [\n",
    "    {'name': 'Alex Bowman', 'number': '48-2002'},\n",
    "    {'name': 'Aric Almirola', 'number': '10-1001'},\n",
    "    {'name': 'Bubba Wallace', 'number': '23-1111'},\n",
    "]"
   ]
  },
  {
   "cell_type": "code",
   "execution_count": 22,
   "id": "aeba946b-e87f-491b-a0f7-22babb796d0b",
   "metadata": {},
   "outputs": [],
   "source": [
    "def get_phone_number(phonebook, name):\n",
    "    if not phonebook:\n",
    "        return 'Phonebook is empty!'\n",
    "\n",
    "    first_index = 0\n",
    "    last_index = len(phonebook) - 1\n",
    "\n",
    "    while first_index <= last_index:\n",
    "        middle_index = (first_index + last_index) // 2\n",
    "        phonebook_name = phonebook[middle_index]['name']\n",
    "\n",
    "        if name == phonebook_name:\n",
    "            return phonebook[middle_index]['number']\n",
    "\n",
    "        elif name < phonebook_name:\n",
    "            last_index = middle_index - 1\n",
    "\n",
    "        else:\n",
    "            first_index = middle_index + 1\n",
    "\n",
    "    return 'Name not found!'"
   ]
  },
  {
   "cell_type": "code",
   "execution_count": 23,
   "id": "987d84b3-3c78-4056-9cea-dbc0f79ebdc9",
   "metadata": {},
   "outputs": [
    {
     "data": {
      "text/plain": [
       "'48-2002'"
      ]
     },
     "execution_count": 23,
     "metadata": {},
     "output_type": "execute_result"
    }
   ],
   "source": [
    "get_phone_number(phonebook, 'Alex Bowman')  # '48-2002'"
   ]
  },
  {
   "cell_type": "code",
   "execution_count": 24,
   "id": "5364ceba-05e3-4436-a594-bde982e459c6",
   "metadata": {},
   "outputs": [
    {
     "data": {
      "text/plain": [
       "'Name not found!'"
      ]
     },
     "execution_count": 24,
     "metadata": {},
     "output_type": "execute_result"
    }
   ],
   "source": [
    "get_phone_number(phonebook, 'None')  # 'Name not found!'"
   ]
  },
  {
   "cell_type": "code",
   "execution_count": 25,
   "id": "1f098e96-b2df-4352-bcab-c681f75a99f1",
   "metadata": {},
   "outputs": [
    {
     "data": {
      "text/plain": [
       "'Phonebook is empty!'"
      ]
     },
     "execution_count": 25,
     "metadata": {},
     "output_type": "execute_result"
    }
   ],
   "source": [
    "get_phone_number([], 'Alex Bowman')  # 'Phonebook is empty!'"
   ]
  }
 ],
 "metadata": {
  "kernelspec": {
   "display_name": "Python 3 (ipykernel)",
   "language": "python",
   "name": "python3"
  },
  "language_info": {
   "codemirror_mode": {
    "name": "ipython",
    "version": 3
   },
   "file_extension": ".py",
   "mimetype": "text/x-python",
   "name": "python",
   "nbconvert_exporter": "python",
   "pygments_lexer": "ipython3",
   "version": "3.10.12"
  }
 },
 "nbformat": 4,
 "nbformat_minor": 5
}
